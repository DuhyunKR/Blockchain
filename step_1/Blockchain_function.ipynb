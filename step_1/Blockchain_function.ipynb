{
  "nbformat": 4,
  "nbformat_minor": 0,
  "metadata": {
    "colab": {
      "provenance": [],
      "authorship_tag": "ABX9TyPfHmJTh8bnVHN0rmJoVPMe"
    },
    "kernelspec": {
      "name": "python3",
      "display_name": "Python 3"
    },
    "language_info": {
      "name": "python"
    }
  },
  "cells": [
    {
      "cell_type": "code",
      "source": [
        "import hashlib"
      ],
      "metadata": {
        "id": "0iDftbzxiWQ3"
      },
      "execution_count": null,
      "outputs": []
    },
    {
      "cell_type": "code",
      "execution_count": null,
      "metadata": {
        "id": "2J4c8fFlh_49"
      },
      "outputs": [],
      "source": [
        "#블록 해시 함수\n",
        "def hash(block):\n",
        "    #Hashes a Block\n",
        "    block_string = json.dumps(block, sort_keys=True).encode()\n",
        "    #hash 라이브러리로 sha256 사용\n",
        "    return hashlib.sha256(block_string).hexdigest()"
      ]
    },
    {
      "cell_type": "code",
      "source": [
        "#거래 내역 저장함수\n",
        "def new_transaction(self, sender, recipient, amount):\n",
        "    # Adds a new transaction to the list of transaction\n",
        "    self.current_transaction.append(\n",
        "        {\n",
        "            'sender' : sender, #송신자\n",
        "            'recipient' : recipient, # 수신자\n",
        "            'amount': amount, #금액\n",
        "            'timestamp':time()\n",
        "        }\n",
        "    )\n",
        "    return self.last_block['index'] + 1"
      ],
      "metadata": {
        "id": "pdfOS5uoidjH"
      },
      "execution_count": null,
      "outputs": []
    },
    {
      "cell_type": "code",
      "source": [
        "#채굴 함수\n",
        "def mine():\n",
        "\n",
        "    last_block = blockchain.last_block\n",
        "    last_proof = last_block['proof']\n",
        "\n",
        "    proof = blockchain.pow(last_proof) # 여기가 진정한 채굴 단계\n",
        "\n",
        "    blockchain.new_transaction(\n",
        "        sender=mine_owner, #채굴 시 생성되는 transaction (0= 운영자)\n",
        "        recipient=node_identifier, # 지갑 주소처럼 사용\n",
        "        amount = mine_profit # coinbase transaction 코인 1개를 줄게!!\n",
        "    )\n",
        "#등록된 노드들을 함께 업데이트\n",
        "    for node in blockchain.nodes:\n",
        "\n",
        "        headers = {'Content-Type' : 'application/json; charset=utf-8'}\n",
        "        data = {\n",
        "            \"sender\": mine_owner,\n",
        "            \"recipient\": node_identifier,\n",
        "            \"amount\": mine_profit\n",
        "        }\n",
        "        requests.post(\"http://\" + node +\"/transactions/new\", headers=headers, data=json.dumps(data))\n",
        "\n",
        "        # Forge the new Block by adding it to the chain\n",
        "        # 전 블록에 대한 hash를 떠 놓고\n",
        "        previous_hash = blockchain.hash(last_block)\n",
        "        #검증하는 걸 넣어서 블록을 다시 생성\n",
        "        print(\"MINING STARTED\")\n",
        "        block = blockchain.new_block(proof, previous_hash)\n",
        "        print(\"MINNG FINISHED\")\n",
        "\n",
        "        #채굴 성공 후 동료 노드들에게 새로운 블록 정보를 업데이트\n",
        "        # 그렇게 검증도 받아야 하고\n",
        "        ###############\n",
        "        for node in blockchain.nodes:\n",
        "            headers = {'Content-Type': 'application/json; charset=utf-8'}\n",
        "            data = {\n",
        "                \"miner_node\": 'http://' + my_ip + \":\" + my_port,\n",
        "            }\n",
        "\n",
        "            a = requests.get(\"http://\" + node + \"/nodes/resolve\", headers=headers, data=json.dumps(data) )\n",
        "            # print(a.text)\n",
        "            #이상이 없으면 정상 배출\n",
        "            if \"ERROR\" not in a.text :\n",
        "                print(\"다른 노드가 내 블록 검증, 결과 정상!!!!!!!\")\n",
        "                # block 이 제대로 mine 되었다는 정보를 json 형태로 띄워 줌\n",
        "                response = {\n",
        "                    'message' : 'new block found',\n",
        "                    'index' : block['index'],\n",
        "                    'transactions' : block['transactions'],\n",
        "                    'proof' : block['proof'],\n",
        "                    'previous_hash' : block['previous_hash']\n",
        "                }\n",
        "\n",
        "            #이상 발생시\n",
        "            else:\n",
        "                1==1\n",
        "                print(\"다른 노드가 내 블록 검증,, 에러 실패!!!!!!!!!!!\")\n",
        "                #문제가 있음 전파\n",
        "            return jsonify(response), 200"
      ],
      "metadata": {
        "id": "eKSy7R4wjLnU"
      },
      "execution_count": null,
      "outputs": []
    }
  ]
}