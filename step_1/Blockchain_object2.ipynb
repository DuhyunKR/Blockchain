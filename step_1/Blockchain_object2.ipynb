{
  "nbformat": 4,
  "nbformat_minor": 0,
  "metadata": {
    "colab": {
      "provenance": [],
      "authorship_tag": "ABX9TyOgAeWKssUr86fTFp+nz3UA"
    },
    "kernelspec": {
      "name": "python3",
      "display_name": "Python 3"
    },
    "language_info": {
      "name": "python"
    }
  },
  "cells": [
    {
      "cell_type": "markdown",
      "source": [
        "# **블록체인 객체의 정의**"
      ],
      "metadata": {
        "id": "e5_PpQBnWFGn"
      }
    },
    {
      "cell_type": "code",
      "execution_count": 1,
      "metadata": {
        "id": "uX08zWpPO2HQ"
      },
      "outputs": [],
      "source": [
        "import datetime"
      ]
    },
    {
      "cell_type": "code",
      "source": [
        "##블록체인이라는 객체 선언!\n",
        "class Blockchain(object):\n",
        "    ##블록체인의 기본 특징 선언\n",
        "    def __init__(self):\n",
        "        self.chain = [] #블록을 연결하는 체인. 처음에는 빈 리스트다!\n",
        "        self.current_transaction = [] #블록 내에 기록되는 transaction. 처음에는 빈 리스트\n",
        "\n",
        "\n",
        "    # transaction이 추가된다\n",
        "    def new_transaction(self, sender, recipient, amount):\n",
        "        #거래 내역을 추가하기\n",
        "        # 현재의 transaction 리스트에 송신자, 수신자 등의 거래 내역을 입력한다.\n",
        "        self.current_transaction.append(\n",
        "            {\n",
        "                'sender' : sender, #송신자\n",
        "                'recipient' : recipient, #수신자\n",
        "                'amount' : amount, #금액\n",
        "                'timestamp' : datetime.datetime.now().timestamp #시간\n",
        "            }\n",
        "        )\n",
        "        return self.last_block['index']+1\n",
        "\n",
        "\n",
        "    #새로운 블록을 만드는 함수\n",
        "    def new_block(self, proof, previous_hash=None):\n",
        "        # 지금의 블록에 이어질 새로운 블록을 만든다\n",
        "        block = {\n",
        "            'index' : len(self.chain) +1, # 지금까지의 체인의 숫자 +1 = 새로운 블록의 인덱스\n",
        "            'timestamp' : datetime . datetime .now().timestamp(), #지금 시간 넣기\n",
        "            'transactions' : self.current_transaction, #지금까지의 transaction을 넣기\n",
        "        }\n",
        "\n",
        "\n",
        "        self.current_transaction = [] #새로 블록이 생겼으니 transaction은 다시 초기화\n",
        "        self.chain.append(block) #기존 체인에 블록을 넣어 연결!! 블록체인\n",
        "        return block\n",
        "    @property\n",
        "    def last_block(self):\n",
        "        #체인의 마지막 블록 가져오기!!\n",
        "        return self.chain[-1]"
      ],
      "metadata": {
        "id": "TpYMSK4sRJ1Z"
      },
      "execution_count": 2,
      "outputs": []
    },
    {
      "cell_type": "markdown",
      "source": [
        "# **블록체인 객체 선언하고 데이터 확인하기**"
      ],
      "metadata": {
        "id": "PPmXU_K4WJMo"
      }
    },
    {
      "cell_type": "code",
      "source": [
        "from genericpath import sameopenfile\n",
        "#블록체인 객체 선언하기\n",
        "sample_blockchain = Blockchain()\n",
        "\n",
        "#1. 블록에 새로운 블록 만들기\n",
        "sample_blockchain.new_block(proof = '1')\n",
        "sample_blockchain.chain"
      ],
      "metadata": {
        "colab": {
          "base_uri": "https://localhost:8080/"
        },
        "id": "SUFmjuUcWPqW",
        "outputId": "bdbc266b-1273-47b4-e92c-906018700a72"
      },
      "execution_count": 3,
      "outputs": [
        {
          "output_type": "execute_result",
          "data": {
            "text/plain": [
              "[{'index': 1, 'timestamp': 1714672062.64947, 'transactions': []}]"
            ]
          },
          "metadata": {},
          "execution_count": 3
        }
      ]
    },
    {
      "cell_type": "code",
      "source": [
        "sample_blockchain.new_block(proof = \"1\")\n",
        "sample_blockchain.chain"
      ],
      "metadata": {
        "colab": {
          "base_uri": "https://localhost:8080/"
        },
        "id": "xcBx1F0mWrra",
        "outputId": "ed5d5331-1379-448b-d80d-fc3287d8667e"
      },
      "execution_count": 4,
      "outputs": [
        {
          "output_type": "execute_result",
          "data": {
            "text/plain": [
              "[{'index': 1, 'timestamp': 1714672062.64947, 'transactions': []},\n",
              " {'index': 2, 'timestamp': 1714672062.670769, 'transactions': []}]"
            ]
          },
          "metadata": {},
          "execution_count": 4
        }
      ]
    },
    {
      "cell_type": "code",
      "source": [
        "#블록에 새로운 거래 내역 입력하기\n",
        "\n",
        "sample_blockchain.new_transaction(sender = \"김민수\", recipient = \"박철수\" , amount = 10)\n",
        "\n",
        "#블록에 새로운 블록 만들기\n",
        "sample_blockchain.new_block(proof = '1')\n",
        "sample_blockchain.chain"
      ],
      "metadata": {
        "colab": {
          "base_uri": "https://localhost:8080/"
        },
        "id": "j3vbSldSXBre",
        "outputId": "6bf993c9-eb0e-45f5-e247-db2d7eaaa509"
      },
      "execution_count": 5,
      "outputs": [
        {
          "output_type": "execute_result",
          "data": {
            "text/plain": [
              "[{'index': 1, 'timestamp': 1714672062.64947, 'transactions': []},\n",
              " {'index': 2, 'timestamp': 1714672062.670769, 'transactions': []},\n",
              " {'index': 3,\n",
              "  'timestamp': 1714672063.412663,\n",
              "  'transactions': [{'sender': '김민수',\n",
              "    'recipient': '박철수',\n",
              "    'amount': 10,\n",
              "    'timestamp': <function datetime.timestamp>}]}]"
            ]
          },
          "metadata": {},
          "execution_count": 5
        }
      ]
    }
  ]
}