{
  "nbformat": 4,
  "nbformat_minor": 0,
  "metadata": {
    "colab": {
      "provenance": [],
      "authorship_tag": "ABX9TyN6k9pOIu1ww5IXznK4dZlL"
    },
    "kernelspec": {
      "name": "python3",
      "display_name": "Python 3"
    },
    "language_info": {
      "name": "python"
    }
  },
  "cells": [
    {
      "cell_type": "code",
      "execution_count": 1,
      "metadata": {
        "id": "5v8RRbG708Wc"
      },
      "outputs": [],
      "source": [
        "## 포유류 객체를 선언!!\n",
        "class mammals(object):\n",
        "    ##포유류 형태적 특징\n",
        "    def __init__(self):\n",
        "        self.number_of_legs = 4 #다리가 4개\n",
        "        self.number_of_mouth = 1 #입이 1개\n",
        "        self.number_of_ears = 2 #귀가 2개\n",
        "        self.gender = \"MALE\" #남성\n",
        "\n",
        "# 포유류의 습성: 잔다\n",
        "    def sleep(self, sleeping_time):\n",
        "        time.sleep(sleeping_time) #sleeping_time 만큼 움직이지 않고 잔다\n",
        "\n",
        "#포유류의 습성: 먹는다.\n",
        "    def eat(self, food):\n",
        "        digest(food)\n",
        "\n",
        "#포유류의 습성: 소화시킨다.\n",
        "    def digest(self, food):\n",
        "        food = food / 2 #음식을 반으로 나눈다!!\n",
        "\n",
        "#포유류의 습성: 배변한다.\n",
        "    def dump(self, food):\n",
        "        food = 0 #음식이 다 나가고 0이 된다!\n"
      ]
    },
    {
      "cell_type": "code",
      "source": [
        "##포유류 객체를 활용하여 강아지를 선언\n",
        "dog = mammals()\n",
        "\n",
        "#포유류 객체를 활용하여 고양이를 선언\n",
        "cat = mammals()\n",
        "\n",
        "#포유류 객체를 활용하여 소를 선언\n",
        "cow = mammals()\n",
        "\n",
        "#강아지의 다리 개수 확인하기\n",
        "dog.number_of_legs"
      ],
      "metadata": {
        "colab": {
          "base_uri": "https://localhost:8080/"
        },
        "id": "v7J8ImPW3EbP",
        "outputId": "74daf306-824d-4b14-ccf7-0dd4fcd5b28a"
      },
      "execution_count": 2,
      "outputs": [
        {
          "output_type": "execute_result",
          "data": {
            "text/plain": [
              "4"
            ]
          },
          "metadata": {},
          "execution_count": 2
        }
      ]
    },
    {
      "cell_type": "code",
      "source": [
        "import datetime\n",
        "\n",
        "#블록체인이라는 객체 선언!\n",
        "class Blockchain(object):\n",
        "    #블록체인의 기본 특징 선언\n",
        "    def __init__(self):\n",
        "        self.chain = [] #블록을 연결하는 체인. 처음에는 빈 리스트다!\n",
        "        self.current_transaction = [] # 블록 내에 기록되는 transaction. 처음에는 빈 리스트다\n",
        "\n",
        "\n",
        "    #transaction이 추가된다.\n",
        "    def new_transaction(self, sender, recipient, amount):\n",
        "        #거래 내역을 추가하기\n",
        "        # 현재의 transaction 리스트에 송신자, 수신자 등의 거래 내역을 입력한다.\n",
        "        self.current_transaction.append(\n",
        "            {\n",
        "                'sender' : sender, #송신자\n",
        "                'recipient' : recipient, #수신자\n",
        "                'amount' : amount, #금액\n",
        "                'timestamp' : datetime.datetime.now().timestamp() #시간\n",
        "            }\n",
        "        )\n",
        "        return self.last_block['index'] + 1\n",
        "\n",
        "    #새로운 블록을 만드는 함수\n",
        "    def new_block(self, proof, previous_hash = None):\n",
        "        #지금의 블록에 이어질 새로운 블록을 만든다.\n",
        "        block = {\n",
        "            'index' : len(self.chain) + 1, # 지금까지의 체인의 숫자 + 1 - 새로운 블록의 인덱스\n",
        "            'timestamp' : datetime . datetime .now().timestamp(), #지금 시간 넣기\n",
        "            'transactions' : self.current_transaction, #지금까지의 transaction을 넣기\n",
        "        }\n",
        "\n",
        "        self.current_transaction = [] # 새로 블록이 생겼으니 transaction은 다시 초기화\n",
        "        self.chain.append(block) #기존 체인에 블록을 넣어 연결! 블록체인\n",
        "        return block\n",
        "\n",
        "    @property\n",
        "    def last_block(self):\n",
        "        #체인의 마지막 블록 가져오기!!\n",
        "        return self.chain[-1]"
      ],
      "metadata": {
        "id": "ADPLCrLE6Nw1"
      },
      "execution_count": 13,
      "outputs": []
    },
    {
      "cell_type": "code",
      "source": [
        "#블록체인 객체 선언하기\n",
        "sample_blockchain = Blockchain()\n",
        "\n",
        "# 1. 블록에 새로운 블록 만들기\n",
        "sample_blockchain.new_block(proof= \"1\")\n",
        "sample_blockchain.chain"
      ],
      "metadata": {
        "colab": {
          "base_uri": "https://localhost:8080/"
        },
        "id": "m9WKXQk48kwt",
        "outputId": "4dc44c41-2ba1-4783-8f2e-44537759174e"
      },
      "execution_count": 14,
      "outputs": [
        {
          "output_type": "execute_result",
          "data": {
            "text/plain": [
              "[{'index': 1, 'timestamp': 1714671913.200763, 'transactions': []}]"
            ]
          },
          "metadata": {},
          "execution_count": 14
        }
      ]
    }
  ]
}