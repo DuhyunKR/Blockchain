{
  "nbformat": 4,
  "nbformat_minor": 0,
  "metadata": {
    "colab": {
      "provenance": [],
      "mount_file_id": "1IEGAhT7YDtT1xBt-zYvCWh35YhN6EYBc",
      "authorship_tag": "ABX9TyPnRWRIMsXUko3c2zQapVbc"
    },
    "kernelspec": {
      "name": "python3",
      "display_name": "Python 3"
    },
    "language_info": {
      "name": "python"
    }
  },
  "cells": [
    {
      "cell_type": "code",
      "source": [
        "import hashlib"
      ],
      "metadata": {
        "id": "XvNT7BaS7BpM"
      },
      "execution_count": null,
      "outputs": []
    },
    {
      "cell_type": "code",
      "execution_count": null,
      "metadata": {
        "id": "OVKUp91n2rKs"
      },
      "outputs": [],
      "source": [
        "block1 ={'INDEX' : 0,\n",
        "          '판매자': '파이썬',\n",
        "          '구매자': '김민수',\n",
        "          '개수': '3개',\n",
        "          '시간': '1990-01-01 00:00:00',\n",
        "          'previous_block' : None} #previous_block이 chain 역할을 한다."
      ]
    },
    {
      "cell_type": "code",
      "source": [
        "block2 ={'INDEX' : 1,\n",
        "          '판매자': '김민수',\n",
        "          '구매자': '김영수',\n",
        "          '개수': '3개',\n",
        "          '시간': '1990-01-02 01:02:03',\n",
        "          'previous_block' : block1}"
      ],
      "metadata": {
        "id": "g5e9vjkL3QQx"
      },
      "execution_count": null,
      "outputs": []
    },
    {
      "cell_type": "code",
      "source": [
        "block3 ={'Index' : 3,\n",
        "          '판매자': '김영수',\n",
        "          '구매자': '박명수',\n",
        "          '개수': '3개',\n",
        "          '시간': '1990-01-03 02:03:04',\n",
        "          'previous_block' : block2}"
      ],
      "metadata": {
        "id": "8DBb4HOM3dLE"
      },
      "execution_count": null,
      "outputs": []
    },
    {
      "cell_type": "code",
      "source": [
        "block4 ={'INDEX' : 4,\n",
        "          '판매자': '박명수',\n",
        "          '구매자': '이미래',\n",
        "          '개수': '3개',\n",
        "          '시간': '1990-01-04 02:03:04',\n",
        "          'previous_block' : block3} #previous_block이 chain 역할을 한다."
      ],
      "metadata": {
        "id": "8lS4zvWK5JPg"
      },
      "execution_count": null,
      "outputs": []
    },
    {
      "cell_type": "code",
      "source": [
        "block5 ={'INDEX' : 5,\n",
        "          '판매자': '이미래',\n",
        "          '구매자': '최용수',\n",
        "          '개수': '3개',\n",
        "          '시간': '1990-01-05 02:03:04',\n",
        "          'previous_block' : block4} #previous_block이 chain 역할을 한다."
      ],
      "metadata": {
        "id": "_Hm7xwA45JWI"
      },
      "execution_count": null,
      "outputs": []
    },
    {
      "cell_type": "code",
      "source": [
        "block6 ={'INDEX' : 6,\n",
        "          '판매자': '최용수',\n",
        "          '구매자': '강영희',\n",
        "          '개수': '3개',\n",
        "          '시간': '1990-01-06 02:03:04',\n",
        "          'previous_block' : block5} #previous_block이 chain 역할을 한다."
      ],
      "metadata": {
        "id": "fdKYNAe_5Jc3"
      },
      "execution_count": null,
      "outputs": []
    },
    {
      "cell_type": "code",
      "source": [
        "#변경 후 블록 6\n",
        "block6 ={'INDEX' : 1,\n",
        "          '판매자': '김민수',\n",
        "          '구매자': '김영수',\n",
        "          '개수': '3개',\n",
        "          '시간': '1990-01-02 01:02:03',\n",
        "          'previous_block' : hashlib.sha256(str(block5).encode()).hexdigest()} #previous_block이 chain 역할을 한다"
      ],
      "metadata": {
        "id": "hIz-XTnW6uPa"
      },
      "execution_count": null,
      "outputs": []
    },
    {
      "cell_type": "code",
      "source": [
        "block6"
      ],
      "metadata": {
        "colab": {
          "base_uri": "https://localhost:8080/"
        },
        "id": "ahgSwWv47FUy",
        "outputId": "2e309bda-bd66-43b2-e0e3-675123ee098f"
      },
      "execution_count": null,
      "outputs": [
        {
          "output_type": "execute_result",
          "data": {
            "text/plain": [
              "{'INDEX': 1,\n",
              " '판매자': '김민수',\n",
              " '구매자': '김영수',\n",
              " '개수': '3개',\n",
              " '시간': '1990-01-02 01:02:03',\n",
              " 'previous_block': '6cf48480698d591496044853953c4dc46538839451af694addf0974150b52050'}"
            ]
          },
          "metadata": {},
          "execution_count": 15
        }
      ]
    }
  ]
}