{
 "cells": [
  {
   "cell_type": "code",
   "execution_count": null,
   "id": "e4397b59",
   "metadata": {},
   "outputs": [],
   "source": [
    "import requests\n",
    "import json\n",
    "import pandas as pd\n",
    "import hashlib # hash 함수용 sha256 사용할 라이브러리|\n",
    "import random"
   ]
  },
  {
   "cell_type": "markdown",
   "id": "a7846e1f",
   "metadata": {},
   "source": [
    "## DAPP 제작 -1 계산기"
   ]
  },
  {
   "cell_type": "code",
   "execution_count": null,
   "id": "da95bd1d",
   "metadata": {},
   "outputs": [],
   "source": [
    "headers = {'Content-Type' : 'application/json; charset=utf-8'}\n",
    "data = {\n",
    "    \"sender\": \"test_from\",\n",
    "    \"recipient\": \"smart_contract\",\n",
    "    \"amount\": 0,\n",
    "    \"smart_contract\" : {\n",
    "        \"contract_code\" : \"calculate_result = {}{}{}\"}\n",
    "}\n",
    "result = requests.post(\"http://localhost:5000/transactions/new\", headers=headers, data=json.dumps(data)).content\n",
    "contract_address = json.loads(result)['contract_address']\n",
    "\n",
    "headers = {'Conent-Type' : 'application/json; charset=utf-8'}\n",
    "res = requests.get(\"http://localhost:5000/mine\")\n",
    "print(res)"
   ]
  },
  {
   "cell_type": "code",
   "execution_count": null,
   "id": "2285dbd4",
   "metadata": {},
   "outputs": [],
   "source": [
    "headers = {'Content-Type' : 'application/json; charset=utf-8'}\n",
    "res = requests.get(\"http://localhost:5000/chain\", headers=headers)\n",
    "res_json = json.loads(res.content)\n",
    "\n",
    "for _block in res_json['chain']:\n",
    "    for _tx in _block['transactions']:\n",
    "        if _tx['smart_contract']['contract_address'] == contract_address:\n",
    "            exec( _tx['smart_contract']['contract_code'].format(120, \"+\", 360)) ## <-----기본연산 다 가능\n",
    "            break\n",
    "print(calculate_result)"
   ]
  },
  {
   "cell_type": "markdown",
   "id": "0259972c",
   "metadata": {},
   "source": [
    "## DAPP 제작 -2 복권"
   ]
  },
  {
   "cell_type": "code",
   "execution_count": null,
   "id": "ea45d1df",
   "metadata": {},
   "outputs": [],
   "source": [
    "headers = {'Content-Type' : 'application/json; charset=utf-8'}\n",
    "data = {\n",
    "    \"sender\" : \"test_from\",\n",
    "    \"recipient\" : \"smart_contract\",\n",
    "    \"amount\" : \"0\",\n",
    "    \"smart_contract\" : {\n",
    "        \"contract_code\" : \"\"\"\n",
    "def Lottery():\n",
    "    lottery_number = random.sample(range(1, 46),6)\n",
    "    lottery_number = sorted(lottery_number, key=lambda x: x)\n",
    "    lottery_number\n",
    "    print(lottery_number)\n",
    "    return lottery_number \"\"\"}\n",
    "}\n",
    "result = requests.post(\"http://localhost:5000/transactions/new\", headers=headers, data=json.dumps(data)).content\n",
    "contract_address = json.loads(result)['contract_address']\n",
    "\n",
    "headers= {'Content-Type' : 'application/json; charset=utf-8'}\n",
    "res = requests.get(\"http://localhost:5000/mine\")\n",
    "print(res)"
   ]
  },
  {
   "cell_type": "code",
   "execution_count": null,
   "id": "b8edf435",
   "metadata": {},
   "outputs": [],
   "source": [
    "headers = {'Content-Type' : 'application/json; charset=utf-8'}\n",
    "res = requests.get(\"http://localhost:5000/chain\", headers=headers)\n",
    "res_json = json.loads(res.content)\n",
    "\n",
    "for _block in res_json['chain']:\n",
    "    for _tx in _block['transactions']:\n",
    "        if _tx['smart_contract']['contract_address'] == contract_address:\n",
    "            exec( _tx['smart_contract']['contract_code'])\n",
    "            break\n",
    "print(Lottery())"
   ]
  }
 ],
 "metadata": {
  "kernelspec": {
   "display_name": "base",
   "language": "python",
   "name": "python3"
  },
  "language_info": {
   "codemirror_mode": {
    "name": "ipython",
    "version": 3
   },
   "file_extension": ".py",
   "mimetype": "text/x-python",
   "name": "python",
   "nbconvert_exporter": "python",
   "pygments_lexer": "ipython3",
   "version": "3.9.13"
  },
  "vscode": {
   "interpreter": {
    "hash": "a077222d77dfe082b8f1dd562ad70e458ac2ab76993a0b248ab0476e32e9e8dd"
   }
  }
 },
 "nbformat": 4,
 "nbformat_minor": 5
}
