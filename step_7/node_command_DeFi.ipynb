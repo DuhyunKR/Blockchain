{
 "cells": [
  {
   "cell_type": "markdown",
   "metadata": {},
   "source": [
    "## DeFi"
   ]
  },
  {
   "cell_type": "code",
   "execution_count": null,
   "metadata": {},
   "outputs": [],
   "source": [
    "import hashlib # hash 함수용 sha256 사용할 라이브러리\n",
    "import json\n",
    "from time import time\n",
    "import random\n",
    "import requests\n",
    "from flask import Flask, request, jsonify\n",
    "import datetime"
   ]
  },
  {
   "cell_type": "code",
   "execution_count": null,
   "metadata": {},
   "outputs": [],
   "source": [
    "#Staking Token 정의\n",
    "\n",
    "token_name = \"DuHyeon-STAKING-TOKEN\"\n",
    "token_total_volume = 100000\n",
    "token_owner = {'토큰_발행자', 10000}\n",
    "staking_status = {}"
   ]
  },
  {
   "cell_type": "code",
   "execution_count": null,
   "metadata": {},
   "outputs": [],
   "source": [
    "#Token의 기본 기능 설정\n",
    "\n",
    "def get_balance(user_id):\n",
    "    print('{} Balance is : '.format(user_id), token_owner[user_id])\n",
    "    return token_owner[user_id]\n",
    "\n",
    "def send_token(sender, recipent, amount):\n",
    "    if sender in token_owner.keys():\n",
    "        if get_balance(sender) > amount:\n",
    "            token_owner[sender] = token_owner[sender] - amount\n",
    "            if recipent in token_owner.keys():\n",
    "                token_owner[recipent] = token_owner[recipent] + amount\n",
    "            else:\n",
    "                token_owner[recipent] = amount\n",
    "            print(\"트랜젝션 완료\")\n",
    "            get_balance(sender)\n",
    "            get_balance(recipent)\n",
    "        else:\n",
    "            return \"잔액부족\"\n",
    "    else:\n",
    "        return \"사용할 수 없는 발신자 ID\""
   ]
  },
  {
   "cell_type": "code",
   "execution_count": null,
   "metadata": {},
   "outputs": [],
   "source": [
    "# 토큰 예치(Staking) 기능 설정\n",
    "\n",
    "def token_staking(staker, amount):\n",
    "    if staker in token_owner.keys():\n",
    "        if get_balance(staker) > amount:\n",
    "            token_owner[staker] = token_owner[staker] - amount\n",
    "            staker [len(staking_status)] = {'staker' : staker, 'amount': amount}\n",
    "            print(\"스테이킹 완료\")\n",
    "            get_balance(staker)\n",
    "        else:\n",
    "            return \"잔액부족\"\n",
    "    else:\n",
    "        return \"사용할 수 없는 발신자 ID\"\n",
    "    \n",
    "def staking_yield(staking_status):\n",
    "    for t in staking_status:\n",
    "        print(staking_status[t])\n",
    "        staking_status[t]['amount'] = staking_status[t]['amount'] * (1+0.1)\n",
    "    return staking_status"
   ]
  },
  {
   "cell_type": "code",
   "execution_count": null,
   "metadata": {},
   "outputs": [],
   "source": [
    "# (Defi) DAPP의 스마트 컨트랙트\n",
    "\n",
    "headers = {'Content-Type' : 'application/json; charset = utf-8'}\n",
    "data = {\n",
    "    \"sender\" : \"test_from\",\n",
    "    \"recipient\": \"test_to\",\n",
    "    \"amount\" : 3,\n",
    "    \"smart_contract\" : {\n",
    "        \"contract_code\" : \"token_name = 'DuHyeon-STAKING-TOKEN' \\ntoken_total_volume=100000\\ntoken_owner = {'토큰_발행자' : 100000}\\nstaking_status = {}\",\n",
    "        \"contract_function_getBalance\" :'''\n",
    "def get_balance(user_id):\n",
    "    print('{} Balance is : '.format(user_id), token_owner[user_id])\n",
    "    return token_owner[user_id]''', \"contract_function_sendToken\" : \"\"\"\n",
    "def send_token(sender, recipent, amount):\n",
    "    if sender in token_owner.keys():\n",
    "        if get_balance(sender) > amount:\n",
    "            token_owner[sender] = token_owner[sender] - amount\n",
    "            if recipent in token_owner.keys():\n",
    "                token_owner[recipent] = token_owner[recipent] + amount\n",
    "            else : \n",
    "                token_owner[recipent] = amount\n",
    "                print(\"Transaction Completed\")\n",
    "                get_balance(sender)\n",
    "                get_balance(recipent)\n",
    "        else:\n",
    "            return \"잔액부족\"\n",
    "    else:\n",
    "        return \"사용할 수 없는 발신자 ID\"\n",
    "\"\"\",\n",
    "    \"contract_function_token_staking\" :\"\"\"\n",
    "def token_staking(staker,amount):\n",
    "    if staker in token_owner.keys():                       ## 예치자(staker)가 실제 존재하는 사용자인지 확인\n",
    "        if get_balance(staker) > amount:                   ## 예치자(staker)의 잔고가 예치 금액보다 많은지 확인\n",
    "            token_owner[staker]  = token_owner[staker] - amount   ## 예치자(staker)의 잔고에서 예치 금액 제외\n",
    "            staking_status [len(staking_status)] =  {'staker':staker,'amount':amount}  \n",
    "                                                            ## 예치 정보(staking_status)에 예치자(staker)의 예치내역 저장\n",
    "            print(\"스테이킹 완료\")\n",
    "            get_balance(staker) \n",
    "            \n",
    "        else:\n",
    "            return \"잔액부족\"\n",
    "    else:\n",
    "        return \"사용할 수 없는 발신자 ID\"\n",
    "\"\"\",\n",
    "    \"contract_function_staking_yield\" :\"\"\"\n",
    "def staking_yield(staking_status):                                 ## 예치 이자 지급함수\n",
    "    for t in staking_status:\n",
    "        print(staking_status[t])\n",
    "            staking_status[t]['amount'] = staking_status[t]['amount'] * (1+0.1)    ## 예치 이자가 10% 지급된 금액으로 예치금 변경\n",
    "    return staking_status\n",
    "\"\"\"                       \n",
    "\n",
    "    }  \n",
    "}\n",
    "result = requests.post(\"http://localhost:5000/transactions/new\", headers=headers, data=json.dumps(data)).content\n",
    "contract_address = json.loads(result)['contract_address']\n",
    "\n",
    "\n",
    "headers = {'Content-Type' : 'application/json; charset=utf-8'}\n",
    "res = requests.get(\"http://localhost:5000/mine\")\n",
    "print(res)"
   ]
  },
  {
   "cell_type": "markdown",
   "metadata": {},
   "source": [
    "## 생성된 토큰 확인하기"
   ]
  },
  {
   "cell_type": "code",
   "execution_count": null,
   "metadata": {},
   "outputs": [],
   "source": [
    "headers = {'Content-Type' : 'application/json; charset=utf-8'}\n",
    "res = requests.get(\"http://localhost:5000/chain\", headers=headers)\n",
    "res_json = json.loads(res.content)\n",
    "\n",
    "for _block in res_json['chain']:\n",
    "    for _tx in _block['transactions']:\n",
    "        if _tx['smart_contract']['contract_address'] == contract_address:\n",
    "            exec( _tx['smart_contract']['contract_code'])\n",
    "            break"
   ]
  },
  {
   "cell_type": "code",
   "execution_count": null,
   "metadata": {},
   "outputs": [],
   "source": [
    "token_name"
   ]
  },
  {
   "cell_type": "code",
   "execution_count": null,
   "metadata": {},
   "outputs": [],
   "source": [
    "token_total_volume"
   ]
  },
  {
   "cell_type": "code",
   "execution_count": null,
   "metadata": {},
   "outputs": [],
   "source": [
    "exec(_tx['smart_contract']['contract_function_getBalance'])\n",
    "get_balance('토큰_발행자')"
   ]
  },
  {
   "cell_type": "markdown",
   "metadata": {},
   "source": [
    "## 예치 진행"
   ]
  },
  {
   "cell_type": "code",
   "execution_count": null,
   "metadata": {},
   "outputs": [],
   "source": [
    "exec(_tx['smart_contract']['contract_function_token_staking'])\n",
    "token_staking('토큰_발행자', 100)"
   ]
  },
  {
   "cell_type": "code",
   "execution_count": null,
   "metadata": {},
   "outputs": [],
   "source": [
    "exec(_tx['smart_contract']['contract_function_token_staking'])\n",
    "token_staking('토큰_발행자',1000)"
   ]
  },
  {
   "cell_type": "code",
   "execution_count": null,
   "metadata": {},
   "outputs": [],
   "source": [
    "#staking_yield 함수로 예치 이자를 지급\n",
    "\n",
    "exec(_tx['smart_contract']['contract_function_staking_yield'])\n",
    "staking_yield(staking_status)"
   ]
  },
  {
   "cell_type": "code",
   "execution_count": null,
   "metadata": {},
   "outputs": [],
   "source": [
    "exec(_tx['smart_contract']['contract_function_staking_yield'])\n",
    "staking_yield(staking_status)"
   ]
  },
  {
   "cell_type": "code",
   "execution_count": null,
   "metadata": {},
   "outputs": [],
   "source": [
    "exec(_tx['smart_contract']['contract_function_staking_yield'])\n",
    "staking_yield(staking_status)"
   ]
  }
 ],
 "metadata": {
  "kernelspec": {
   "display_name": "base",
   "language": "python",
   "name": "python3"
  },
  "language_info": {
   "codemirror_mode": {
    "name": "ipython",
    "version": 3
   },
   "file_extension": ".py",
   "mimetype": "text/x-python",
   "name": "python",
   "nbconvert_exporter": "python",
   "pygments_lexer": "ipython3",
   "version": "3.9.13"
  }
 },
 "nbformat": 4,
 "nbformat_minor": 2
}
