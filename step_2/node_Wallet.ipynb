{
 "cells": [
  {
   "cell_type": "code",
   "execution_count": 13,
   "metadata": {},
   "outputs": [],
   "source": [
    "#Package Import\n",
    "from flask import Flask\n",
    "from datetime import datetime\n",
    "from flask import render_template\n",
    "from flask import request\n",
    "from flask import url_for\n",
    "from flask import redirect\n",
    "\n",
    "import requests\n",
    "import json\n",
    "import os\n",
    "import pandas as pd"
   ]
  },
  {
   "cell_type": "markdown",
   "metadata": {},
   "source": [
    "## Login 기능\n",
    "- POST 방식으로 지갑 주소를 입력한 경우,\n",
    "- 알맞은 지갑주소일 경우 wallet.html 파일 랜더링\n",
    "- 잘못된 지갑주소일 경우 에러 메시지 띄움"
   ]
  },
  {
   "cell_type": "code",
   "execution_count": 14,
   "metadata": {},
   "outputs": [],
   "source": [
    "#Flask APP\n",
    "app =Flask(__name__, template_folder= os.getcwd())\n",
    "\n",
    "# Login 기능\n",
    "@app.route('/', methods=['GET', 'POST'])\n",
    "def login():\n",
    "    if request.method=='POST':\n",
    "        print(\"login 버튼을 누름\")\n",
    "        input_value = request.form.to_dict(flat=False) ['wallet_id'][0]\n",
    "        print(\"login 지갑주소 : \" , input_value)\n",
    "        ### 기존 user 정보 확인\n",
    "        headers = {'Content-Type' : 'application/json; charset=utf-8'}\n",
    "        res = requests.get(\"http://localhost:5000/chain\", headers=headers)\n",
    "        status_json = json.loads(res.text)\n",
    "        status_json['chain']    \n",
    "        tx_amount_l = []\n",
    "        tx_sender_l = []\n",
    "        tx_reciv_l  = []\n",
    "        tx_time_l   = []\n",
    "        # 거래내역 정리 (df_tx)\n",
    "        for chain_index in range(len(status_json['chain'])):\n",
    "            chain_tx = status_json['chain'][chain_index]['transactions']\n",
    "            for each_tx in range(len(chain_tx)):\n",
    "                tx_amount_l.append(chain_tx[each_tx]['amount'])\n",
    "                tx_sender_l.append(chain_tx[each_tx]['sender'])\n",
    "                tx_reciv_l.append(chain_tx[each_tx]['recipient'])\n",
    "                tx_time_l.append(chain_tx[each_tx]['timestamp'])\n",
    "        df_tx = pd.DataFrame()\n",
    "        df_tx['timestamp'] = tx_time_l  \n",
    "        df_tx['sender'] = tx_sender_l \n",
    "        df_tx['recipient'] = tx_reciv_l\n",
    "        df_tx['amount'] = tx_amount_l   \n",
    "        df_tx\n",
    "\n",
    "        # pyBTC 잔고현황 정리 (df_status)\n",
    "        df_sended = pd.DataFrame(df_tx.groupby('sender')['amount'].sum()).reset_index()\n",
    "        df_sended.columns = ['user','sended_amount']\n",
    "        df_received= pd.DataFrame(df_tx.groupby('recipient')['amount'].sum()).reset_index()\n",
    "        df_received.columns = ['user','received_amount']\n",
    "        df_status = pd.merge(df_received,df_sended, on ='user', how=  'outer').fillna(0)\n",
    "        df_status['balance'] = df_status['received_amount']  - df_status['sended_amount']  \n",
    "        df_status       \n",
    "    \n",
    "        # 결과값 랜더링\n",
    "        if (df_status['user']==input_value ).sum() == 1:\n",
    "            print(\"로그인성공\")\n",
    "            return render_template(\"wallet.html\",  wallet_id = input_value, \n",
    "                                            wallet_value = df_status[df_status['user']== input_value]['balance'].iloc[0])\n",
    "        else:\n",
    "            return \"잘못된 지갑주소입니다.\"\n",
    "        \n",
    "    return render_template('login.html')\n",
    "\n",
    "\n",
    "# 지갑 기능\n",
    "\n",
    "@app.route('/wallet', methods=['GET', 'POST'])\n",
    "def wallet():\n",
    "    if request.method=='POST':\n",
    "        send_value = int(request.form.to_dict(flat=False)['send_value'][0] )\n",
    "        send_target = request.form.to_dict(flat=False)['send_target'][0]\n",
    "        send_from = request.form.to_dict(flat=False)['send_from'][0]\n",
    "        print(\"Login Wallet ID : \" ,send_from)\n",
    "        \n",
    "        if send_value > 0:\n",
    "            print(\"Send Amout :\", send_value)\n",
    "            ## transaction 입력하기\n",
    "            headers = {'Content-Type' : 'application/json; charset=utf-8'}\n",
    "            data = {\n",
    "                \"sender\": send_from,\n",
    "                \"recipient\": send_target,\n",
    "                \"amount\": send_value,\n",
    "            }\n",
    "            requests.post(\"http://localhost:5000/transactions/new\", headers=headers, data=json.dumps(data))       \n",
    "            return \"전송 완료!\"\n",
    "\n",
    "        else:\n",
    "            return \"0 pyBTC 이상 보내주세요!\"\n",
    "        \n",
    "    return render_template('wallet.html')"
   ]
  },
  {
   "cell_type": "code",
   "execution_count": 15,
   "metadata": {},
   "outputs": [
    {
     "name": "stdout",
     "output_type": "stream",
     "text": [
      " * Serving Flask app \"__main__\" (lazy loading)\n",
      " * Environment: production\n",
      "\u001b[31m   WARNING: This is a development server. Do not use it in a production deployment.\u001b[0m\n",
      "\u001b[2m   Use a production WSGI server instead.\u001b[0m\n",
      " * Debug mode: off\n"
     ]
    },
    {
     "name": "stderr",
     "output_type": "stream",
     "text": [
      " * Running on http://127.0.0.1:5556/ (Press CTRL+C to quit)\n",
      "127.0.0.1 - - [13/Jun/2024 17:01:16] \"GET / HTTP/1.1\" 200 -\n",
      "127.0.0.1 - - [13/Jun/2024 17:01:22] \"POST /login HTTP/1.1\" 404 -\n",
      "127.0.0.1 - - [13/Jun/2024 17:01:51] \"GET /wallet HTTP/1.1\" 200 -\n"
     ]
    }
   ],
   "source": [
    "app.run(port=5556)"
   ]
  }
 ],
 "metadata": {
  "kernelspec": {
   "display_name": "base",
   "language": "python",
   "name": "python3"
  },
  "language_info": {
   "codemirror_mode": {
    "name": "ipython",
    "version": 3
   },
   "file_extension": ".py",
   "mimetype": "text/x-python",
   "name": "python",
   "nbconvert_exporter": "python",
   "pygments_lexer": "ipython3",
   "version": "3.9.13"
  },
  "orig_nbformat": 4,
  "vscode": {
   "interpreter": {
    "hash": "a077222d77dfe082b8f1dd562ad70e458ac2ab76993a0b248ab0476e32e9e8dd"
   }
  }
 },
 "nbformat": 4,
 "nbformat_minor": 2
}
