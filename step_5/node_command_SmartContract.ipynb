{
 "cells": [
  {
   "cell_type": "code",
   "execution_count": 1,
   "id": "e4397b59",
   "metadata": {},
   "outputs": [],
   "source": [
    "import requests\n",
    "import json\n",
    "import pandas as pd\n",
    "import hashlib # hash 함수용 sha256 사용할 라이브러리|\n",
    "import random"
   ]
  },
  {
   "cell_type": "markdown",
   "id": "4a2c3864",
   "metadata": {},
   "source": [
    "## 노드의 블록 정보 확인"
   ]
  },
  {
   "cell_type": "code",
   "execution_count": null,
   "id": "26d585ba",
   "metadata": {},
   "outputs": [],
   "source": [
    "headers = {'Content-Type' : 'application/json; charset=utf-8'}\n",
    "res = requests.get(\"http://localhost:5000/chain\", headers=headers)\n",
    "json.loads(res.content)"
   ]
  },
  {
   "cell_type": "markdown",
   "id": "7d8928f5",
   "metadata": {},
   "source": [
    "## transaction 입력 및 채굴(기존과 동일)"
   ]
  },
  {
   "cell_type": "code",
   "execution_count": null,
   "id": "77decc96",
   "metadata": {},
   "outputs": [],
   "source": [
    "headers = {'Content-Type' : 'application/json; charset=utf-8'}\n",
    "data = {\n",
    "        \"sender\": \"test_from\",\n",
    "        \"recipient\": \"test_to\",\n",
    "        \"amount\": 100,\n",
    "        \"smart_contract\": {}\n",
    "}\n",
    "requests.post(\"http://localhost:5000/transactions/new\", headers=headers, data=json.dumps(data)).content\n",
    "\n",
    "headers = {'Content-Type' : 'application/json; charset=utf-8'}\n",
    "res = requests.get(\"http://localhost:5000/mine\")\n",
    "print(res)"
   ]
  },
  {
   "cell_type": "markdown",
   "id": "6b3f19c6",
   "metadata": {},
   "source": [
    "## 노드의 블록정보 확인 - 1"
   ]
  },
  {
   "cell_type": "code",
   "execution_count": null,
   "id": "d74a816b",
   "metadata": {},
   "outputs": [],
   "source": [
    "headers = {'Content-Type' : 'application/json; charset=utf-8'}\n",
    "res = requests.get(\"http://localhost:5000/chain\", headers=headers)\n",
    "json.loads(res.content)"
   ]
  },
  {
   "cell_type": "markdown",
   "id": "22f62fb1",
   "metadata": {},
   "source": [
    "## Smart Contract transaction 입력하기"
   ]
  },
  {
   "cell_type": "code",
   "execution_count": null,
   "id": "18844519",
   "metadata": {},
   "outputs": [],
   "source": [
    "headers = {'Content-Type' : 'application/json; charset=utf-8'}\n",
    "data = {\n",
    "        \"sender\": \"test_from\",\n",
    "        \"recipient\": \"smart_contract\",\n",
    "        \"amount\": 0,\n",
    "        \"smart_contract\": {\"contract_code\":\"print('Ｈello Ｓmart－Ｃontract')\"}\n",
    "}\n",
    "result = requests.post(\"http://localhost:5000/transactions/new\", headers=headers, data=json.dumps(data)).content\n",
    "json.loads(result)"
   ]
  },
  {
   "cell_type": "code",
   "execution_count": null,
   "id": "11f708cb",
   "metadata": {},
   "outputs": [],
   "source": [
    "contract_address = json.loads(result)['contract_address']"
   ]
  },
  {
   "cell_type": "markdown",
   "id": "8ffed183",
   "metadata": {},
   "source": [
    "## 노드의 블록정보 확인 - 2"
   ]
  },
  {
   "cell_type": "code",
   "execution_count": null,
   "id": "cd862740",
   "metadata": {},
   "outputs": [],
   "source": [
    "headers = {'Content-Type' : 'application/json; charset=utf-8'}\n",
    "res = requests.get(\"http://localhost:5000/chain\", headers=headers)\n",
    "json.loads(res.content)"
   ]
  },
  {
   "cell_type": "markdown",
   "id": "de078099",
   "metadata": {},
   "source": [
    "##  채굴하기 - 1"
   ]
  },
  {
   "cell_type": "code",
   "execution_count": null,
   "id": "ca6e8f84",
   "metadata": {},
   "outputs": [],
   "source": [
    "headers = {'Content-Type' : 'application/json; charset=utf-8'}\n",
    "res = requests.get(\"http://localhost:5000/mine\")\n",
    "print(res)"
   ]
  },
  {
   "cell_type": "markdown",
   "id": "a8f956fe",
   "metadata": {},
   "source": [
    "## 노드의 블록정보 확인 - 3"
   ]
  },
  {
   "cell_type": "code",
   "execution_count": null,
   "id": "17f93c4a",
   "metadata": {
    "scrolled": true
   },
   "outputs": [],
   "source": [
    "headers = {'Content-Type' : 'application/json; charset=utf-8'}\n",
    "res = requests.get(\"http://localhost:5000/chain\", headers=headers)\n",
    "json.loads(res.content)"
   ]
  },
  {
   "cell_type": "markdown",
   "id": "c4593807",
   "metadata": {},
   "source": [
    "## Smart Contract 호출 -1"
   ]
  },
  {
   "cell_type": "code",
   "execution_count": null,
   "id": "741bf835",
   "metadata": {},
   "outputs": [],
   "source": [
    "headers = {'Content-Type' : 'application/json; charset=utf-8'}\n",
    "res = requests.get(\"http://localhost:5000/chain\", headers=headers)\n",
    "res_json = json.loads(res.content)"
   ]
  },
  {
   "cell_type": "code",
   "execution_count": null,
   "id": "7c1418db",
   "metadata": {},
   "outputs": [],
   "source": [
    "for _block in res_json['chain']:\n",
    "    for _tx in _block['transactions']:\n",
    "        if _tx['smart_contract']['contract_address'] == contract_address:\n",
    "            exec( _tx['smart_contract']['contract_code'])            "
   ]
  },
  {
   "cell_type": "markdown",
   "id": "cff38e24",
   "metadata": {},
   "source": [
    "## Smart Contract 입력하기 -2  / NFT"
   ]
  },
  {
   "cell_type": "code",
   "execution_count": null,
   "id": "39930baf",
   "metadata": {},
   "outputs": [],
   "source": [
    "headers = {'Content-Type' : 'application/json; charset=utf-8'}\n",
    "data = {\n",
    "        \"sender\": \"test_from\",\n",
    "        \"recipient\": \"smart_contract\",\n",
    "        \"amount\": 0,\n",
    "        \"smart_contract\": {\"contract_code\":\"\"\"\n",
    "myNFT = {'NFT_NAME':'SMARTCONTRACT_NFT',\n",
    "         'NFT_URL': 'https://www.google.com/images/branding/googlelogo/1x/googlelogo_color_272x92dp.png'}\n",
    "                                            \"\"\"}\n",
    "}\n",
    "result = requests.post(\"http://localhost:5000/transactions/new\", headers=headers, data=json.dumps(data)).content\n",
    "contract_address = json.loads(result)['contract_address']\n",
    "\n",
    "# 채굴을 통하여 거래내역을 블록에 저장한다\n",
    "headers = {'Content-Type' : 'application/json; charset=utf-8'}\n",
    "res = requests.get(\"http://localhost:5000/mine\")\n",
    "print(res)"
   ]
  },
  {
   "cell_type": "code",
   "execution_count": null,
   "id": "9f522d2f",
   "metadata": {},
   "outputs": [],
   "source": [
    "contract_address"
   ]
  },
  {
   "cell_type": "code",
   "execution_count": null,
   "id": "d5da3542",
   "metadata": {},
   "outputs": [],
   "source": [
    "# 블록 정보 호출\n",
    "headers = {'Content-Type' : 'application/json; charset=utf-8'}\n",
    "res = requests.get(\"http://localhost:5000/chain\", headers=headers)\n",
    "res_json = json.loads(res.content)\n",
    "\n",
    "## 스마트 컨트랙트를 호출 및 실행\n",
    "for _block in res_json['chain']:\n",
    "    for _tx in _block['transactions']:\n",
    "        if _tx['smart_contract']['contract_address'] == contract_address:\n",
    "            exec( _tx['smart_contract']['contract_code'])            \n",
    "myNFT"
   ]
  },
  {
   "cell_type": "markdown",
   "id": "ea5d40bd",
   "metadata": {},
   "source": [
    "## Smart Contract 입력하기 -3  / Token 만들기"
   ]
  },
  {
   "cell_type": "code",
   "execution_count": null,
   "id": "3c34f54b",
   "metadata": {},
   "outputs": [],
   "source": [
    "headers = {'Content-Type' : 'application/json; charset=utf-8'}\n",
    "data = {\n",
    "        \"sender\": \"test_from\",\n",
    "        \"recipient\": \"smart_contract\",\n",
    "        \"amount\": 0,\n",
    "        \"smart_contract\": {\n",
    "                           \"contract_code\" :\"token_name = 'pyTOKEN' \\ntoken_total_volume = 100000\"\n",
    "                                            }\n",
    "            }\n",
    "result = requests.post(\"http://localhost:5000/transactions/new\", headers=headers, data=json.dumps(data)).content\n",
    "contract_address = json.loads(result)['contract_address']\n",
    "\n",
    "headers = {'Content-Type' : 'application/json; charset=utf-8'}\n",
    "res = requests.get(\"http://localhost:5000/mine\")\n",
    "print(res)"
   ]
  },
  {
   "cell_type": "code",
   "execution_count": null,
   "id": "6413e45f",
   "metadata": {},
   "outputs": [],
   "source": [
    "contract_address"
   ]
  },
  {
   "cell_type": "code",
   "execution_count": null,
   "id": "4a504559",
   "metadata": {},
   "outputs": [],
   "source": [
    "# 블록 정보 호출\n",
    "headers = {'Content-Type' : 'application/json; charset=utf-8'}\n",
    "res = requests.get(\"http://localhost:5000/chain\", headers=headers)\n",
    "res_json = json.loads(res.content)\n",
    "\n",
    "## 스마트 컨트랙트를 호출 및 실행\n",
    "for _block in res_json['chain']:\n",
    "    for _tx in _block['transactions']:\n",
    "        if _tx['smart_contract']['contract_address'] == contract_address:\n",
    "            exec( _tx['smart_contract']['contract_code'])       \n",
    "            break\n",
    "print(token_name , \"/ \", token_total_volume  )"
   ]
  },
  {
   "cell_type": "markdown",
   "id": "ed126fe1",
   "metadata": {},
   "source": [
    "## Smart Contract 입력하기 -4  / 거래 가능한 Token 만들기"
   ]
  },
  {
   "cell_type": "code",
   "execution_count": null,
   "id": "5842274d",
   "metadata": {},
   "outputs": [],
   "source": [
    "headers = {'Content-Type' : 'application/json; charset=utf-8'}\n",
    "data = {\n",
    "        \"sender\": \"test_from\",\n",
    "        \"recipient\": \"test_to\",\n",
    "        \"amount\": 3,\n",
    "        \"smart_contract\": {\n",
    "                           \"contract_code\" :\"token_name = 'pyTOKEN' \\ntoken_total_volume = 100000\\ntoken_owner = {'token_maker' : 10000}\",\n",
    "                           \"contract_function_getBalance\" :\"\"\"\n",
    "def get_balance(user_id):\n",
    "    print('{} Balance is : '.format(user_id), token_owner[user_id])\n",
    "    return token_owner[user_id]\n",
    "\"\"\",\n",
    "                           \"contract_function_sendToken\" :\"\"\"\n",
    "def send_token(sender,recipent,amount):\n",
    "    if sender in token_owner.keys():\n",
    "        if get_balance(sender) > amount:\n",
    "            token_owner[sender]  = token_owner[sender] - amount\n",
    "            if recipent in token_owner.keys():\n",
    "                token_owner[recipent]  = token_owner[recipent] + amount\n",
    "            else :\n",
    "                token_owner[recipent]  =  amount\n",
    "            print(\"Transaction Completed\")\n",
    "            get_balance(sender) \n",
    "            get_balance(recipent) \n",
    "\n",
    "        else:\n",
    "            return \"Insufficient Balance\"\n",
    "    else:\n",
    "        return \"Unavailable Sender id\"\n",
    "\"\"\"\n",
    "                           \n",
    "\n",
    "                                            }\n",
    "            }\n",
    "result = requests.post(\"http://localhost:5000/transactions/new\", headers=headers, data=json.dumps(data)).content\n",
    "contract_address = json.loads(result)['contract_address']\n",
    "\n",
    "\n",
    "headers = {'Content-Type' : 'application/json; charset=utf-8'}\n",
    "res = requests.get(\"http://localhost:5000/mine\")\n",
    "print(res)"
   ]
  },
  {
   "cell_type": "code",
   "execution_count": null,
   "id": "44cab093",
   "metadata": {},
   "outputs": [],
   "source": [
    "headers = {'Content-Type' : 'application/json; charset=utf-8'}\n",
    "res = requests.get(\"http://localhost:5000/chain\", headers=headers)\n",
    "res_json = json.loads(res.content)\n",
    "\n",
    "for _block in res_json['chain']:\n",
    "    for _tx in _block['transactions']:\n",
    "        if _tx['smart_contract']['contract_address'] == contract_address:\n",
    "            exec( _tx['smart_contract']['contract_code'])\n",
    "            break"
   ]
  },
  {
   "cell_type": "code",
   "execution_count": null,
   "id": "97423dae",
   "metadata": {},
   "outputs": [],
   "source": [
    "token_name "
   ]
  },
  {
   "cell_type": "code",
   "execution_count": null,
   "id": "e4e89e0e",
   "metadata": {},
   "outputs": [],
   "source": [
    "token_total_volume"
   ]
  },
  {
   "cell_type": "code",
   "execution_count": null,
   "id": "2910210d",
   "metadata": {},
   "outputs": [],
   "source": [
    "exec(_tx['smart_contract']['contract_function_getBalance'])\n",
    "get_balance('token_maker')"
   ]
  },
  {
   "cell_type": "code",
   "execution_count": null,
   "id": "e010d1f8",
   "metadata": {},
   "outputs": [],
   "source": [
    "exec(_tx['smart_contract']['contract_function_sendToken'])\n",
    "send_token('token_maker','user',50)"
   ]
  },
  {
   "cell_type": "code",
   "execution_count": null,
   "id": "17da70f0",
   "metadata": {},
   "outputs": [],
   "source": [
    "exec(_tx['smart_contract']['contract_function_getBalance'])\n",
    "get_balance('token_maker')"
   ]
  },
  {
   "cell_type": "code",
   "execution_count": null,
   "id": "c0e228d7",
   "metadata": {},
   "outputs": [],
   "source": [
    "exec(_tx['smart_contract']['contract_function_getBalance'])\n",
    "get_balance('user')"
   ]
  },
  {
   "cell_type": "code",
   "execution_count": null,
   "id": "af1d39f5",
   "metadata": {},
   "outputs": [],
   "source": [
    "exec(_tx['smart_contract']['contract_function_sendToken'])\n",
    "send_token('token_maker','user',50)"
   ]
  },
  {
   "cell_type": "code",
   "execution_count": null,
   "id": "e9ff3e21",
   "metadata": {},
   "outputs": [],
   "source": [
    "send_token('token_maker','user2',3000)"
   ]
  },
  {
   "cell_type": "code",
   "execution_count": null,
   "id": "8a19fad3",
   "metadata": {},
   "outputs": [],
   "source": [
    "exec(_tx['smart_contract']['contract_function_getBalance'])\n",
    "get_balance('user2')"
   ]
  },
  {
   "cell_type": "markdown",
   "id": "164b8647",
   "metadata": {},
   "source": [
    "## 참고 : 이더리움 네트워크 상에서 Layer2 토큰을 만드는 솔리디티 코드"
   ]
  },
  {
   "cell_type": "code",
   "execution_count": null,
   "id": "55eafb81",
   "metadata": {},
   "outputs": [],
   "source": [
    "pragma solidity ^0.4.24;\n",
    "\n",
    "\n",
    "contract SafeMath {\n",
    "    function safeAdd(uint a, uint b) public pure returns (uint c) {\n",
    "        c = a + b;\n",
    "        require(c >= a);\n",
    "    }\n",
    "    function safeSub(uint a, uint b) public pure returns (uint c) {\n",
    "        require(b <= a);\n",
    "        c = a - b;\n",
    "    }\n",
    "    function safeMul(uint a, uint b) public pure returns (uint c) {\n",
    "        c = a * b;\n",
    "        require(a == 0 || c / a == b);\n",
    "    }\n",
    "    function safeDiv(uint a, uint b) public pure returns (uint c) {\n",
    "        require(b > 0);\n",
    "        c = a / b;\n",
    "    }\n",
    "}\n",
    "\n",
    "\n",
    "/**\n",
    "ERC Token Standard #20 Interface\n",
    "https://github.com/ethereum/EIPs/blob/master/EIPS/eip-20-token-standard.md\n",
    "*/\n",
    "\n",
    "contract ERC20Interface {\n",
    "    function totalSupply() public constant returns (uint);\n",
    "    function balanceOf(address tokenOwner) public constant returns (uint balance);\n",
    "    function allowance(address tokenOwner, address spender) public constant returns (uint remaining);\n",
    "    function transfer(address to, uint tokens) public returns (bool success);\n",
    "    function approve(address spender, uint tokens) public returns (bool success);\n",
    "    function transferFrom(address from, address to, uint tokens) public returns (bool success);\n",
    "\n",
    "    event Transfer(address indexed from, address indexed to, uint tokens);\n",
    "    event Approval(address indexed tokenOwner, address indexed spender, uint tokens);\n",
    "}\n",
    "\n",
    "\n",
    "\n",
    "contract ApproveAndCallFallBack {\n",
    "    function receiveApproval(address from, uint256 tokens, address token, bytes data) public;\n",
    "}\n",
    "\n",
    "contract pyTOKEN is ERC20Interface, SafeMath {\n",
    "    string public symbol;\n",
    "    string public  name;\n",
    "    uint8 public decimals;\n",
    "    uint public _totalSupply;\n",
    "\n",
    "    mapping(address => uint) balances;\n",
    "    mapping(address => mapping(address => uint)) allowed;\n",
    "\n",
    "\n",
    "    // ------------------------------------------------------------------------\n",
    "    // 토큰의 명칭 및 총 발행량 선언\n",
    "    // ------------------------------------------------------------------------\n",
    "    constructor() public {\n",
    "        symbol = \"pyTOKEN\";\n",
    "        name = \"Python Token\";\n",
    "        decimals = 2;\n",
    "        _totalSupply = 100000;\n",
    "        balances[0xAd61C057eD2cE6BB81f10eeC0192e3a7DEC848dc] = _totalSupply;\n",
    "        emit Transfer(address(0), 0xAd61C057eD2cE6BB81f10eeC0192e3a7DEC848dc, _totalSupply);\n",
    "    }\n",
    "\n",
    "\n",
    "    // ------------------------------------------------------------------------\n",
    "    // T총 발행량 설정\n",
    "    // ------------------------------------------------------------------------\n",
    "    function totalSupply() public constant returns (uint) {\n",
    "        return _totalSupply  - balances[address(0)];\n",
    "    }\n",
    "\n",
    "\n",
    "    // ------------------------------------------------------------------------\n",
    "    // 잔액 조회 함수\n",
    "    // ------------------------------------------------------------------------\n",
    "    function balanceOf(address tokenOwner) public constant returns (uint balance) {\n",
    "        return balances[tokenOwner];\n",
    "    }\n",
    "\n",
    "\n",
    "    // ------------------------------------------------------------------------\n",
    "    // 토큰 보내기 함수1\n",
    "    // ------------------------------------------------------------------------\n",
    "    function transfer(address to, uint tokens) public returns (bool success) {\n",
    "        balances[msg.sender] = safeSub(balances[msg.sender], tokens);\n",
    "        balances[to] = safeAdd(balances[to], tokens);\n",
    "        emit Transfer(msg.sender, to, tokens);\n",
    "        return true;\n",
    "    }\n",
    "\n",
    "\n",
    "    // ------------------------------------------------------------------------\n",
    "    // 잔고 조회후 토큰 보내기 기능 승인\n",
    "    // ------------------------------------------------------------------------\n",
    "    function approve(address spender, uint tokens) public returns (bool success) {\n",
    "        allowed[msg.sender][spender] = tokens;\n",
    "        emit Approval(msg.sender, spender, tokens);\n",
    "        return true;\n",
    "    }\n",
    "\n",
    "\n",
    "    // ------------------------------------------------------------------------\n",
    "    // 토큰 보내기 함수2\n",
    "    // ------------------------------------------------------------------------\n",
    "    function transferFrom(address from, address to, uint tokens) public returns (bool success) {\n",
    "        balances[from] = safeSub(balances[from], tokens);\n",
    "        allowed[from][msg.sender] = safeSub(allowed[from][msg.sender], tokens);\n",
    "        balances[to] = safeAdd(balances[to], tokens);\n",
    "        emit Transfer(from, to, tokens);\n",
    "        return true;\n",
    "    }\n",
    "\n",
    "\n",
    "    // ------------------------------------------------------------------------\n",
    "    // 토큰을 보낼 수 있는지 잔고조회 확인\n",
    "    // ------------------------------------------------------------------------\n",
    "    function allowance(address tokenOwner, address spender) public constant returns (uint remaining) {\n",
    "        return allowed[tokenOwner][spender];\n",
    "    }\n",
    "\n",
    "\n",
    "\n",
    "}"
   ]
  }
 ],
 "metadata": {
  "kernelspec": {
   "display_name": "base",
   "language": "python",
   "name": "python3"
  },
  "language_info": {
   "codemirror_mode": {
    "name": "ipython",
    "version": 3
   },
   "file_extension": ".py",
   "mimetype": "text/x-python",
   "name": "python",
   "nbconvert_exporter": "python",
   "pygments_lexer": "ipython3",
   "version": "3.9.13"
  },
  "vscode": {
   "interpreter": {
    "hash": "a077222d77dfe082b8f1dd562ad70e458ac2ab76993a0b248ab0476e32e9e8dd"
   }
  }
 },
 "nbformat": 4,
 "nbformat_minor": 5
}
