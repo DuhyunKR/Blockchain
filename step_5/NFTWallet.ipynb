{
 "cells": [
  {
   "attachments": {},
   "cell_type": "markdown",
   "metadata": {},
   "source": [
    "## Packages Import\n"
   ]
  },
  {
   "cell_type": "code",
   "execution_count": null,
   "metadata": {},
   "outputs": [],
   "source": [
    "from flask import Flask\n",
    "from flask import render_template\n",
    "from flask import request\n",
    "\n",
    "import requests\n",
    "import json\n",
    "import os"
   ]
  },
  {
   "attachments": {},
   "cell_type": "markdown",
   "metadata": {},
   "source": [
    "## Flask app"
   ]
  },
  {
   "cell_type": "code",
   "execution_count": null,
   "metadata": {},
   "outputs": [],
   "source": [
    "app = Flask(__name__, template_folder=os.getcwd())"
   ]
  },
  {
   "attachments": {},
   "cell_type": "markdown",
   "metadata": {},
   "source": [
    "## NFT Wallet "
   ]
  },
  {
   "cell_type": "code",
   "execution_count": null,
   "metadata": {},
   "outputs": [],
   "source": [
    "@app.route('/', methods=['GET', 'POST'])\n",
    "def login():\n",
    "    if request.method == 'POST':\n",
    "        \n",
    "        contract_address = request.form.to_dict(flat=False)['smart_contract_addr'][0]\n",
    "        print(contract_address)\n",
    "        # 블록 정보 호출\n",
    "        headers = {'Content-Type' : 'application/json; charset=utf-8'}\n",
    "        res = request.get(\"http://localhost:5000/chain\", headers=headers)\n",
    "        res_json = json.loads(res.content)\n",
    "        ntf_TF = False\n",
    "        # 스마트 컨트랙트를 호출 및 실행\n",
    "        for _block in res_json['chain']:\n",
    "            for _tx in _block['transactions']:\n",
    "                if _tx['smart_contract']['contract_address'] == contract_address:\n",
    "                    exec( _tx['smart_contract']['contract_code'])\n",
    "                    ntf_TF = True\n",
    "                    break\n",
    "        if ntf_TF:\n",
    "            #print(myNFT)\n",
    "            return render_template(\"NFT_Wallet.html\",\n",
    "                                   nft_name = _tx['smart_contract']['contract_code'].split(\"'\")[3],\n",
    "                                   nft_img_url = _tx['smart_contract']['contract_code'].split(\"'\")[7],\n",
    "                                   nft_address = contract_address\n",
    "                                   )\n",
    "        else:\n",
    "            return \"잘못된 지갑주소입니다.\"\n",
    "    return render_template(\"NFT_Wallet_login.html\")\n",
    "app.run(port=8082)"
   ]
  }
 ],
 "metadata": {
  "kernelspec": {
   "display_name": "base",
   "language": "python",
   "name": "python3"
  },
  "language_info": {
   "codemirror_mode": {
    "name": "ipython",
    "version": 3
   },
   "file_extension": ".py",
   "mimetype": "text/x-python",
   "name": "python",
   "nbconvert_exporter": "python",
   "pygments_lexer": "ipython3",
   "version": "3.9.13"
  },
  "orig_nbformat": 4,
  "vscode": {
   "interpreter": {
    "hash": "a077222d77dfe082b8f1dd562ad70e458ac2ab76993a0b248ab0476e32e9e8dd"
   }
  }
 },
 "nbformat": 4,
 "nbformat_minor": 2
}
