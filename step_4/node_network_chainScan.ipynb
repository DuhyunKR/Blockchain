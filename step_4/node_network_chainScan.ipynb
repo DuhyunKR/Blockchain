{
 "cells": [
  {
   "cell_type": "code",
   "execution_count": null,
   "metadata": {},
   "outputs": [],
   "source": [
    "#import\n",
    "\n",
    "from datetime import time\n",
    "from flask import Flask\n",
    "from flask import render_template\n",
    "import requests\n",
    "import json\n",
    "import os\n",
    "import pandas as pd\n",
    "import random"
   ]
  },
  {
   "cell_type": "code",
   "execution_count": null,
   "metadata": {},
   "outputs": [],
   "source": [
    "#Back-end\n",
    "app = Flask(__name__, template_folder=os.getcwd())\n",
    "\n",
    "node_port_list = ['5000', '5001', '5002']\n",
    "\n",
    "@app.route('/')\n",
    "def index():\n",
    "    headers = {'Content-Type' : 'application/json; charset = utf-8'}\n",
    "    \n",
    "    # 블록체인 내 블록 정보를 제공하는 url(localhsot:5000/chain)에 request 방식으로 데이터를 요청\n",
    "    node_id = random.choice(node_port_list)\n",
    "    res = requests.get(\"http://localhost:\" + node_id + \"/chain\", headers=headers)\n",
    "\n",
    "    print(\"Selected Node : \", node_id)\n",
    "    \n",
    "    # 요청 결과 데이터(res.text)를 json으로 로드\n",
    "    status_json = json.loads(res.text)\n",
    "    \n",
    "    # 결과 데이터를 pandas의 dataframe(df_scan)으로 정리\n",
    "    df_scan = pd.DataFrame(status_json['chain'] )\n",
    "\n",
    "    # Front 구성 내용이 담길 html(node_scan.html) 파일에 데이터 프레임 정보(df_scan)와 블록의 길이를 제공\n",
    "    return render_template('/node_network_scan.html', df_scan = df_scan, block_len = len(df_scan))\n",
    "\n",
    "app.run(port=8888)"
   ]
  }
 ],
 "metadata": {
  "kernelspec": {
   "display_name": "base",
   "language": "python",
   "name": "python3"
  },
  "language_info": {
   "codemirror_mode": {
    "name": "ipython",
    "version": 3
   },
   "file_extension": ".py",
   "mimetype": "text/x-python",
   "name": "python",
   "nbconvert_exporter": "python",
   "pygments_lexer": "ipython3",
   "version": "3.9.13"
  },
  "orig_nbformat": 4,
  "vscode": {
   "interpreter": {
    "hash": "a077222d77dfe082b8f1dd562ad70e458ac2ab76993a0b248ab0476e32e9e8dd"
   }
  }
 },
 "nbformat": 4,
 "nbformat_minor": 2
}
